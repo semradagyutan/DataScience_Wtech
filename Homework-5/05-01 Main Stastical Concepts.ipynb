{
 "cells": [
  {
   "cell_type": "markdown",
   "metadata": {},
   "source": [
    "1-Analyze the central tendency and distribution measurements with the mathematical formula given above and the built-in codes available in python through 3 different data that you will generate using the numpy library !!!"
   ]
  },
  {
   "cell_type": "code",
   "execution_count": 61,
   "metadata": {},
   "outputs": [
    {
     "name": "stdout",
     "output_type": "stream",
     "text": [
      "67.28701806042639\n",
      "45.075338442339\n",
      "67.53879057234445\n",
      "47.143495911513625\n",
      "31.7275170812097\n",
      "45.12696278497765\n",
      "5.632718445050285\n",
      "0.7510572779836573\n"
     ]
    }
   ],
   "source": [
    "#numpy kütüphanesi ile merkezi eğilim ölçüleri\n",
    "import pandas as pd\n",
    "import numpy as np\n",
    "\n",
    "data = pd.DataFrame()\n",
    "data['gender'] = ['female'] * 40 + ['male'] * 40\n",
    "data['exam'] = np.append(np.random.normal(70, 6, 40), np.random.normal(65, 6, 40))\n",
    "data['final'] = np.append(np.random.normal(50, 4, 40), np.random.normal(40, 5, 40))\n",
    "\n",
    "\n",
    "sum(data[\"exam\"]/len(data[\"exam\"])) #ortalama\n",
    "print(np.mean(data[\"exam\"]))\n",
    "\n",
    "sum(data[\"final\"]/len(data[\"final\"])) #ortalama\n",
    "print(np.mean(data[\"final\"]))\n",
    "\n",
    "print(np.median(data['exam'])) #medyan\n",
    "print(np.median(data[\"final\"]))\n",
    "\n",
    "\n",
    "(values, counts) = np.unique(data['exam'], return_counts=True) #mod\n",
    "ind = np.argmax(counts)\n",
    "values[ind]\n",
    "\n",
    "#dağılım ölçüleri\n",
    "\n",
    "print(np.var(data['exam'], ddof=1))\n",
    "print(data['final'].var())\n",
    "\n",
    "print(np.std(data['exam'], ddof=1)) #st sapma\n",
    "\n",
    "print(np.std(data['final'] ,ddof=1) / np.sqrt(len(data['final']))) #st hata"
   ]
  },
  {
   "cell_type": "code",
   "execution_count": 43,
   "metadata": {},
   "outputs": [
    {
     "name": "stdout",
     "output_type": "stream",
     "text": [
      "86.2373962624392\n",
      "45.57837482407595\n",
      "77.0840900179306\n",
      "52.05647848538738\n"
     ]
    }
   ],
   "source": [
    "import statistics\n",
    "\n",
    "print(statistics.median(data['exam']))\n",
    "print(statistics.median(data['final']))\n",
    "\n",
    "print(statistics.mode(data[\"exam\"]))\n",
    "print(statistics.mode(data['final']))\n"
   ]
  },
  {
   "cell_type": "code",
   "execution_count": 78,
   "metadata": {},
   "outputs": [
    {
     "data": {
      "text/html": [
       "<div>\n",
       "<style scoped>\n",
       "    .dataframe tbody tr th:only-of-type {\n",
       "        vertical-align: middle;\n",
       "    }\n",
       "\n",
       "    .dataframe tbody tr th {\n",
       "        vertical-align: top;\n",
       "    }\n",
       "\n",
       "    .dataframe thead th {\n",
       "        text-align: right;\n",
       "    }\n",
       "</style>\n",
       "<table border=\"1\" class=\"dataframe\">\n",
       "  <thead>\n",
       "    <tr style=\"text-align: right;\">\n",
       "      <th></th>\n",
       "      <th>Gender</th>\n",
       "      <th>Exam1</th>\n",
       "      <th>Final</th>\n",
       "    </tr>\n",
       "  </thead>\n",
       "  <tbody>\n",
       "    <tr>\n",
       "      <th>0</th>\n",
       "      <td>female</td>\n",
       "      <td>69.046258</td>\n",
       "      <td>48.928697</td>\n",
       "    </tr>\n",
       "    <tr>\n",
       "      <th>1</th>\n",
       "      <td>female</td>\n",
       "      <td>68.258782</td>\n",
       "      <td>50.312422</td>\n",
       "    </tr>\n",
       "    <tr>\n",
       "      <th>2</th>\n",
       "      <td>female</td>\n",
       "      <td>68.709857</td>\n",
       "      <td>48.601428</td>\n",
       "    </tr>\n",
       "    <tr>\n",
       "      <th>3</th>\n",
       "      <td>female</td>\n",
       "      <td>71.903089</td>\n",
       "      <td>57.315367</td>\n",
       "    </tr>\n",
       "    <tr>\n",
       "      <th>4</th>\n",
       "      <td>female</td>\n",
       "      <td>71.783874</td>\n",
       "      <td>46.270234</td>\n",
       "    </tr>\n",
       "    <tr>\n",
       "      <th>...</th>\n",
       "      <td>...</td>\n",
       "      <td>...</td>\n",
       "      <td>...</td>\n",
       "    </tr>\n",
       "    <tr>\n",
       "      <th>75</th>\n",
       "      <td>male</td>\n",
       "      <td>65.195311</td>\n",
       "      <td>38.511885</td>\n",
       "    </tr>\n",
       "    <tr>\n",
       "      <th>76</th>\n",
       "      <td>male</td>\n",
       "      <td>69.924524</td>\n",
       "      <td>44.599296</td>\n",
       "    </tr>\n",
       "    <tr>\n",
       "      <th>77</th>\n",
       "      <td>male</td>\n",
       "      <td>57.371987</td>\n",
       "      <td>42.691595</td>\n",
       "    </tr>\n",
       "    <tr>\n",
       "      <th>78</th>\n",
       "      <td>male</td>\n",
       "      <td>56.867145</td>\n",
       "      <td>42.493509</td>\n",
       "    </tr>\n",
       "    <tr>\n",
       "      <th>79</th>\n",
       "      <td>male</td>\n",
       "      <td>64.865531</td>\n",
       "      <td>35.753332</td>\n",
       "    </tr>\n",
       "  </tbody>\n",
       "</table>\n",
       "<p>80 rows × 3 columns</p>\n",
       "</div>"
      ],
      "text/plain": [
       "    Gender      Exam1      Final\n",
       "0   female  69.046258  48.928697\n",
       "1   female  68.258782  50.312422\n",
       "2   female  68.709857  48.601428\n",
       "3   female  71.903089  57.315367\n",
       "4   female  71.783874  46.270234\n",
       "..     ...        ...        ...\n",
       "75    male  65.195311  38.511885\n",
       "76    male  69.924524  44.599296\n",
       "77    male  57.371987  42.691595\n",
       "78    male  56.867145  42.493509\n",
       "79    male  64.865531  35.753332\n",
       "\n",
       "[80 rows x 3 columns]"
      ]
     },
     "metadata": {},
     "output_type": "display_data"
    },
    {
     "data": {
      "image/png": "[encoded data removed]",
      "text/plain": [
       "<Figure size 432x288 with 2 Axes>"
      ]
     },
     "metadata": {
      "needs_background": "light"
     },
     "output_type": "display_data"
    }
   ],
   "source": [
    "import matplotlib.pyplot as plt\n",
    "\n",
    "data2 = pd.DataFrame()\n",
    "\n",
    "data2[\"Gender\"]= data[\"gender\"]\n",
    "data2[\"Exam1\"] = data[\"exam\"]\n",
    "data2[\"Final\"] = data[\"final\"]\n",
    "xlabel = (\"femal\")\n",
    "display(data2)\n",
    "\n",
    "data2.hist(layout= (2,1),sharex = True)\n",
    "plt.show()\n",
    "\n",
    "\n"
   ]
  },
  {
   "cell_type": "code",
   "execution_count": 75,
   "metadata": {},
   "outputs": [
    {
     "name": "stdout",
     "output_type": "stream",
     "text": [
      "Gender       male\n",
      "Exam1     81.2383\n",
      "Final     57.3154\n",
      "dtype: object\n",
      "Exam1    67.287018\n",
      "Final    45.075338\n",
      "dtype: float64\n"
     ]
    }
   ],
   "source": [
    "print(data2.max())\n",
    "print(data2.mean())\n"
   ]
  }
 ],
 "metadata": {
  "kernelspec": {
   "display_name": "Python 3",
   "language": "python",
   "name": "python3"
  },
  "language_info": {
   "codemirror_mode": {
    "name": "ipython",
    "version": 3
   },
   "file_extension": ".py",
   "mimetype": "text/x-python",
   "name": "python",
   "nbconvert_exporter": "python",
   "pygments_lexer": "ipython3",
   "version": "3.8.3"
  }
 },
 "nbformat": 4,
 "nbformat_minor": 4
}
