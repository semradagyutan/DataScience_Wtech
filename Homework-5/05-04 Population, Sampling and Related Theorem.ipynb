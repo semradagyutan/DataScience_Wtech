{
 "cells": [
  {
   "cell_type": "markdown",
   "metadata": {},
   "source": [
    "1-In this question, you test whether the central limit theorem works. You generate 1000 variables with two normal distributions. You can determine the mean and standard deviation of these variables yourself. All you have to do is generate the first variable 50 times and averaged it each time. Generate the second variable 1000 times and averages this variable each time. Then plot the histogram of the averages of the two variables. Which of the variables has a mean distribution closer to the normal distribution? Do you think the Central Limit Theorem seems to have worked?"
   ]
  },
  {
   "cell_type": "code",
   "execution_count": 1,
   "metadata": {},
   "outputs": [
    {
     "data": {
      "image/png": "[encoded data removed]",
      "text/plain": [
       "<Figure size 432x288 with 1 Axes>"
      ]
     },
     "metadata": {
      "needs_background": "light"
     },
     "output_type": "display_data"
    }
   ],
   "source": [
    "import pandas as pd\n",
    "import numpy as np\n",
    "import matplotlib.pyplot as plt\n",
    "import warnings\n",
    "warnings.filterwarnings(\"ignore\")\n",
    "\n",
    "\n",
    "sample1= []\n",
    "sample2=[]\n",
    "\n",
    "for samplemean1 in range(1,51):\n",
    "    normal_distribution1 = np.random.normal(200, 25, 1000)\n",
    "    sample1.append(np.mean(normal_distribution1))\n",
    "    \n",
    "for samplemean2 in range(1,1001):\n",
    "    normal_distribution2= np.random.normal(200,25, 1000) \n",
    "    sample2.append(np.mean(normal_distribution2))\n",
    "        \n",
    "\n",
    "plt.hist(sample1, alpha=1, label='Sample 1', color= \"yellow\") \n",
    "plt.hist(sample2, alpha=0.5, label='Sample 2', color = \"red\") \n",
    "plt.legend(loc='upper right') \n",
    "plt.show()\n",
    "\n"
   ]
  },
  {
   "cell_type": "markdown",
   "metadata": {},
   "source": [
    "Örnek sayısı daha çok olan değişkende girinti çıkıntılar azalmış olup, simetrik bir görüntü elde edilmiştir. Buradan hareketle normal dağılıma yaklaşmış olduğu görülüp, merkezi limit teoreminin geçerli olduğu görülmekte. "
   ]
  }
 ],
 "metadata": {
  "kernelspec": {
   "display_name": "Python 3",
   "language": "python",
   "name": "python3"
  },
  "language_info": {
   "codemirror_mode": {
    "name": "ipython",
    "version": 3
   },
   "file_extension": ".py",
   "mimetype": "text/x-python",
   "name": "python",
   "nbconvert_exporter": "python",
   "pygments_lexer": "ipython3",
   "version": "3.8.3"
  }
 },
 "nbformat": 4,
 "nbformat_minor": 4
}
