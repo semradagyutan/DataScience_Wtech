{
 "cells": [
  {
   "cell_type": "markdown",
   "metadata": {},
   "source": [
    "1-What is the purpose the data exploration?"
   ]
  },
  {
   "cell_type": "markdown",
   "metadata": {},
   "source": [
    "It enables us to better understand the available data. It allows us to detect where the errors that may occur due to data come from and to produce solutions more easily.\n",
    "\n",
    "Elde bulunan veriyi daha iyi anlamamızı sağlar. Veriden kaynaklı oluşabilecek hataların nereden geldiğini algılayıp, daha kolay çözüm üretmemizi sağlar. \n"
   ]
  },
  {
   "cell_type": "markdown",
   "metadata": {},
   "source": [
    "2-Suppose you are working on a dataset containing customer reviews of an e-commerce company's products. Customer reviews collected through the company's website are rated between 1 and 5 depending on whether the content is positive or negative.\n",
    "\n",
    "-What kind of problems do you expect to encounter in this raw data?\n",
    "\n",
    "The comments entered by the customers may not fit the positive or negative classification we have set. The comments made may be made to an element other than the product, the sentences made may not be understood due to the non-compliance with the rules of the language used. Due to these problems, a healthy rating may not be made.\n",
    "\n",
    "Müşterilerin girmiş olduğu yorumlar belirlemiş olduğumuz olumlu olumsuz sınıflandırmasına uymayabilir. Yapılan yorumlar ürün dışında başka bir unsura yapılmış olabilir, kurulan cümleler kullanılan dilin kurallarına uygun olmamasından kaynaklı anlaşılmayabilir. Bu sayılan problemlerden dolayı sağlıklı bir derecelendirme yapılmayabilir.\n",
    "\n",
    "-If your task is to identify the characteristics that reveal that the customers' comments are positive or negative, how would you do that and what methods would you use for this?\n",
    "\n",
    "For positive and negative comments, I throw out the most used words and see if these words are used in sentences with a loop.\n",
    "\n",
    "Olumlu ve olumsuz yorumlar için en çok kullanılan kelimeleri bir yere atıp, bir döngü ile cümleler içinde bu kelimelerin kullanılıp kullanılmadığına bakarım.\n",
    "\n",
    "-What are the useful features that can be extracted from raw data? How can you access this data and understand whether it is useful?\n",
    "\n",
    "I group them according to the degree of liking I have. I list the most liked and disliked products. Accordingly, I list the qualities that affect the purchase and develop a comparison method according to the products. As a result of my comparison, after I make an improvement study according to the purchase of the products that are theoretically not liked, I make a prediction for their purchase.\n",
    "\n",
    "Elimde bulunan beğenilme derecesine göre gruplama yaparım. En çok beğenilen ve beğenilmeyen ürünleri sıralarım. Buna göre satın alınmasını etkileyen nitelikleri sıralayıp ürünlere göre kıyaslama yöntemi geliştiririm. Yaptığım kıyaslama sonucunda teorik olarak beğenilmeyen ürünlerin üzerinde satın alınmasına göre bir iyileme çalışması yaptıktan sonra, satın alınmasına yönelik tahminleme yaparım. \n"
   ]
  },
  {
   "cell_type": "markdown",
   "metadata": {},
   "source": [
    "3- Why do you think missing values should be taking care of?\n",
    "\n",
    "The machine learning algorithm has trouble with missing values so we have to fill in or get rid of the missing values. In some cases, it can be ignored, but if a large part of our data consists of missing values, these missing values may cause the visualization graph we use and our statistical results to take to a value far from the value we need to get. For example, when we want to visualize our data with a boxplot graph, we need to get rid of NaN values because we need to use numerical data in this method. That's why we need to deal with missing values in our data.\n",
    "\n",
    "Makina öğrenimi algoritması, eksik değerlerle sorun yaşar bu nedenle kayıp değerleri doldurmamız ya da kurtulmamız gerekir. Bazı durumlarda gözardı edilebilir fakat verimizin büyük bir kısmı kayıp değerlerden oluşuyorsa, bu kayıp değerler kullandığımız görselleştirme grafiğini ve istatiksel sonuçlarımızı almamız gerek değerden uzak bir değere götürmesine yol açabilir. Örneğin verimizi boxplot grafiği ile görselleştirmek istediğimiz zaman, bu yöntemde nümerik veri kullanmamız gerektiği için, NaN değerlerinden kurtulmamız gerekir. Bu yüzden verimizde bulunan kayıp değerlerle ilgilenmemiz gerekmektedir. \n",
    "\n"
   ]
  },
  {
   "cell_type": "markdown",
   "metadata": {},
   "source": [
    "4- Do you think that outliers have an impact on a dataset? If so, how would you explain this impact?\n",
    "\n",
    "I think it affects in some cases and not in some cases. If there are very few outliers in a very large data set, this will not affect our result much. But outliers will spoil the character of our dataset. For example, we have symmetrical data and there are 1 or 2 outliers, which causes our data to turn into a skewed value.\n",
    "\n",
    "Bazı durumlarda etkileyip bazı durumlarda etkilemediğini düşünüyorum. Çok büyük bir veri setinde çok az aykırı değer var ise bu alacağımız sonucu çok etkilemez. Fakat aykırı değerler verisetimizin karakterini bozar. Örneğin simetrik bir verimiz var ve 1  2 tane aykırı değer var, bu da verimizin çarpık bir değere dönüşmesine sebep oluyor. \n",
    "\n"
   ]
  },
  {
   "cell_type": "markdown",
   "metadata": {},
   "source": [
    "5- Please briefly summarize you first actions when you start analyzing the data?\n",
    "\n",
    "First, when I read the file, I look at the column headers and some column contents to see what the data looks like.\n",
    "Then, to get more detailed information about the column contents, I use the info function to examine which data types the contents contain. At the same time, since info shows how many rows the data contains and how many rows the column contents contain, I can observe whether there are missing values from here.\n",
    "\n",
    "I evaluate the situation, decide with which data types to operate, and make the necessary variable transformations.\n",
    "\n",
    "If I am going to perform data cleaning, I first determine the missing values and then calculate their rates according to the total data.\n",
    "Based on the results of the calculations, I take the rates into account and decide whether I will fill in the lost data or delete it. If I'm not sure, I try both options and analyze the results.\n",
    "\n",
    "İlk olarak, dosyayı okuduğum zaman verinin neye benzediğini görmek adına kolon başlıklarına ve bir kısım kolon içeriklerine bakarım \n",
    "Daha sonra kolon içerikleri hakkında daha detaylı bilgiye ulaşmak için info fonksiyonunu kullanarak içeriklerin hangi veri türlerini içerdiklerini incelerim. Aynı zaman da info, verinin toplam kaç satır içeridiğini, sütun içeriklerinin kaç satır içerdiğini gösterdiği için buradan kayıp değerlerin var olup olmadığını gözlemleyebilirim.\n",
    "\n",
    "Durumu değerlendirip hangi veri tipleriyle işlem yapacağıma karar verip, gerekli değiken dönüşümlerini yaparım. \n",
    "\n",
    "Veri temizliği yapacak isem, öncelikle kayıp değerleri saptayıp ardından toplam veriye göre oranlarını hesaplarım.\n",
    "Çıkan hesap sonuçlarına göre oranları göz önüne alıp, kayıp verileri doldurcağıma ya da silip silmeyeceğime karar veririm. Eğer emin değilsem iki seçeneği de deneyip sonuçları analiz ederim. \n",
    "\n"
   ]
  }
 ],
 "metadata": {
  "kernelspec": {
   "display_name": "Python 3",
   "language": "python",
   "name": "python3"
  },
  "language_info": {
   "codemirror_mode": {
    "name": "ipython",
    "version": 3
   },
   "file_extension": ".py",
   "mimetype": "text/x-python",
   "name": "python",
   "nbconvert_exporter": "python",
   "pygments_lexer": "ipython3",
   "version": "3.8.3"
  }
 },
 "nbformat": 4,
 "nbformat_minor": 4
}
