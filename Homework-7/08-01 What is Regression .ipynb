{
 "cells": [
  {
   "cell_type": "markdown",
   "metadata": {},
   "source": [
    "# Q-1"
   ]
  },
  {
   "cell_type": "markdown",
   "metadata": {},
   "source": [
    "1-Let's assume that you have World Bank data on financial, economic and social indicators for several countries. You want to measure the factors that affect the level of development in these countries. To this end, you decide to use per capita income as a proxy for the development level, which is defined as the national income divided by the population. You want to use some features in your dataset to predict per capita income. Is this task a classification or a regression task? Why?\n"
   ]
  },
  {
   "cell_type": "markdown",
   "metadata": {},
   "source": [
    "Sınıflandırma , verileri birden fazla kategorik sınıfa ayırmada yardımcı olan bir model bulma veya  keşfetme işlemidir. \n",
    "Hedef değişken kategorik veya sınıf adı verilen sınırlı sayıda değer alabilir. Sıralı değildir. \n",
    "\n",
    "\n",
    "Regresyon ise, varsayılan veya bilinen bir sayısal çıktı değerine dayanan tahmin töntemidir. Verileri sınıfları kullanmak yerine sürekli gerçek değerlere ayırmak için bir model veya işlev bulma sürecidir. Sıralıdır. Sürekli bir sonuç değişkenine sahiptir. Fonksiyon yaklaşımını minimum hata sapması ile bulmaya çalışıyor. \n",
    "\n",
    "Buna göre değerlendirdiğimiz zaman kişi başı gelirler kategorik olmayıp sürekli değişken olduğu için regresyon modelini kullanırız. "
   ]
  },
  {
   "cell_type": "markdown",
   "metadata": {},
   "source": [
    "# Q-2"
   ]
  },
  {
   "cell_type": "markdown",
   "metadata": {},
   "source": [
    "2-Which of the following arguments are false and why?\n",
    "\n",
    "-OLS is a special type of linear regression models.\n",
    "\n",
    "-Regression models become useless if they don’t meet the assumptions of linear regression.\n",
    "\n",
    "-Estimation and prediction are the same thing in the context of linear regression models.\n",
    "\n",
    "-Linear regression model is only one kind of regression models. Regression problems can also be solved with other kind of models like Support Vector Machines or Random Forests.\n"
   ]
  },
  {
   "cell_type": "markdown",
   "metadata": {},
   "source": [
    "En küçük kareler yöntemi , birbirine bağlı olarak değişen iki fiziksel büyüklük arasındaki ilişkiyi mümkün olduğunca gerçeğe uygun bir denklem olarak yazmak için kullanılan, standart bir regresyon yöntemidir. Bir başka deyişle bu yöntem, ölçüm sonucu elde edilmiş veri noktalarına “mümkün olduğu kadar yakın” geçecek bir işlev eğrisi bulmaya yarar. "
   ]
  },
  {
   "cell_type": "markdown",
   "metadata": {},
   "source": [
    "- Bir regresyon modeli oluşturulurken genelde en-küçük kareler ve en büyükolabilirlik (\n",
    "maximum likelihood) teknikleri olarak bilinen iki yaklaşımdan birisi kullanılır.\n",
    "\n",
    "\n",
    "- Eğer varsayımlar karşılanmıyorsa karşılanmayan varsayımlar onarılmaya çalışılır. Onarılmazsa anlamsız olur. \n",
    "\n",
    "\n",
    "- Estimation, bir parametreyi tahmin etmek için verileri kullanırken, prediction; veri kümesinin parçası olmayan bir rasgele değeri tahmin etmek için verileri kullanır. O yüzden verilen ifade yanlıştır. \n",
    "\n",
    "\n",
    "- Bu ifade doğrudur."
   ]
  },
  {
   "cell_type": "markdown",
   "metadata": {},
   "source": [
    "# Q-3"
   ]
  },
  {
   "cell_type": "markdown",
   "metadata": {},
   "source": [
    "3-Assume that your project manager wants you to discover which free services your company offers make your customers buy more of your paid services. Formulate this task as a regression problem and write down the potential outcome and features that you’d like to work on."
   ]
  },
  {
   "cell_type": "markdown",
   "metadata": {},
   "source": [
    "Bağımlı değişken y= ücretli hizmet\n",
    "\n",
    "Bağımsız değişken x= ücretsiz hizmet - kurulum ücreti alınmaması \n",
    "\n",
    "y= α + βx \n",
    "\n",
    "Potansiyel sonuc: Ücretsiz değişkenin katsayısı arttıkça pozitif ilişkide olduğu için  ücretli hizmetin satın alınma miktarının artacağıdır."
   ]
  }
 ],
 "metadata": {
  "kernelspec": {
   "display_name": "Python 3",
   "language": "python",
   "name": "python3"
  },
  "language_info": {
   "codemirror_mode": {
    "name": "ipython",
    "version": 3
   },
   "file_extension": ".py",
   "mimetype": "text/x-python",
   "name": "python",
   "nbconvert_exporter": "python",
   "pygments_lexer": "ipython3",
   "version": "3.8.3"
  }
 },
 "nbformat": 4,
 "nbformat_minor": 4
}
