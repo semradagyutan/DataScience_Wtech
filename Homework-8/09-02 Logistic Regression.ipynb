{
 "cells": [
  {
   "cell_type": "markdown",
   "metadata": {},
   "source": [
    "# Q-1"
   ]
  },
  {
   "cell_type": "markdown",
   "metadata": {},
   "source": [
    "Download Titanic data from Kaggle. The data in the train.csv file meets your need.\n",
    "\n",
    "Split your data into training and test sets.\n",
    "\n",
    "Predict the survival based on the test data you split by creating your model.\n",
    "Is your model's performance satisfactory? Explain.\n",
    "\n",
    "Try to improve your model's performance by adding or subtracting some variables.\n",
    "\n",
    "Explore the advantages and disadvantages of Logistic Regression and discuss with your mentor."
   ]
  },
  {
   "cell_type": "code",
   "execution_count": 1,
   "metadata": {},
   "outputs": [],
   "source": [
    "import pandas as pd\n",
    "import numpy as np\n",
    "import seaborn as sns\n",
    "import matplotlib.pyplot as plt\n",
    "from sklearn.linear_model import LogisticRegression\n",
    "from sklearn.model_selection import train_test_split\n",
    "import warnings\n",
    "warnings.filterwarnings(action=\"ignore\")\n",
    "\n",
    "pd.options.display.max_columns = None"
   ]
  },
  {
   "cell_type": "code",
   "execution_count": 2,
   "metadata": {},
   "outputs": [
    {
     "data": {
      "text/html": [
       "<div>\n",
       "<style scoped>\n",
       "    .dataframe tbody tr th:only-of-type {\n",
       "        vertical-align: middle;\n",
       "    }\n",
       "\n",
       "    .dataframe tbody tr th {\n",
       "        vertical-align: top;\n",
       "    }\n",
       "\n",
       "    .dataframe thead th {\n",
       "        text-align: right;\n",
       "    }\n",
       "</style>\n",
       "<table border=\"1\" class=\"dataframe\">\n",
       "  <thead>\n",
       "    <tr style=\"text-align: right;\">\n",
       "      <th></th>\n",
       "      <th>PassengerId</th>\n",
       "      <th>Survived</th>\n",
       "      <th>Pclass</th>\n",
       "      <th>Name</th>\n",
       "      <th>Sex</th>\n",
       "      <th>Age</th>\n",
       "      <th>SibSp</th>\n",
       "      <th>Parch</th>\n",
       "      <th>Ticket</th>\n",
       "      <th>Fare</th>\n",
       "      <th>Cabin</th>\n",
       "      <th>Embarked</th>\n",
       "    </tr>\n",
       "  </thead>\n",
       "  <tbody>\n",
       "    <tr>\n",
       "      <th>0</th>\n",
       "      <td>1</td>\n",
       "      <td>0</td>\n",
       "      <td>3</td>\n",
       "      <td>Braund, Mr. Owen Harris</td>\n",
       "      <td>male</td>\n",
       "      <td>22.0</td>\n",
       "      <td>1</td>\n",
       "      <td>0</td>\n",
       "      <td>A/5 21171</td>\n",
       "      <td>7.2500</td>\n",
       "      <td>NaN</td>\n",
       "      <td>S</td>\n",
       "    </tr>\n",
       "    <tr>\n",
       "      <th>1</th>\n",
       "      <td>2</td>\n",
       "      <td>1</td>\n",
       "      <td>1</td>\n",
       "      <td>Cumings, Mrs. John Bradley (Florence Briggs Th...</td>\n",
       "      <td>female</td>\n",
       "      <td>38.0</td>\n",
       "      <td>1</td>\n",
       "      <td>0</td>\n",
       "      <td>PC 17599</td>\n",
       "      <td>71.2833</td>\n",
       "      <td>C85</td>\n",
       "      <td>C</td>\n",
       "    </tr>\n",
       "    <tr>\n",
       "      <th>2</th>\n",
       "      <td>3</td>\n",
       "      <td>1</td>\n",
       "      <td>3</td>\n",
       "      <td>Heikkinen, Miss. Laina</td>\n",
       "      <td>female</td>\n",
       "      <td>26.0</td>\n",
       "      <td>0</td>\n",
       "      <td>0</td>\n",
       "      <td>STON/O2. 3101282</td>\n",
       "      <td>7.9250</td>\n",
       "      <td>NaN</td>\n",
       "      <td>S</td>\n",
       "    </tr>\n",
       "    <tr>\n",
       "      <th>3</th>\n",
       "      <td>4</td>\n",
       "      <td>1</td>\n",
       "      <td>1</td>\n",
       "      <td>Futrelle, Mrs. Jacques Heath (Lily May Peel)</td>\n",
       "      <td>female</td>\n",
       "      <td>35.0</td>\n",
       "      <td>1</td>\n",
       "      <td>0</td>\n",
       "      <td>113803</td>\n",
       "      <td>53.1000</td>\n",
       "      <td>C123</td>\n",
       "      <td>S</td>\n",
       "    </tr>\n",
       "    <tr>\n",
       "      <th>4</th>\n",
       "      <td>5</td>\n",
       "      <td>0</td>\n",
       "      <td>3</td>\n",
       "      <td>Allen, Mr. William Henry</td>\n",
       "      <td>male</td>\n",
       "      <td>35.0</td>\n",
       "      <td>0</td>\n",
       "      <td>0</td>\n",
       "      <td>373450</td>\n",
       "      <td>8.0500</td>\n",
       "      <td>NaN</td>\n",
       "      <td>S</td>\n",
       "    </tr>\n",
       "    <tr>\n",
       "      <th>5</th>\n",
       "      <td>6</td>\n",
       "      <td>0</td>\n",
       "      <td>3</td>\n",
       "      <td>Moran, Mr. James</td>\n",
       "      <td>male</td>\n",
       "      <td>NaN</td>\n",
       "      <td>0</td>\n",
       "      <td>0</td>\n",
       "      <td>330877</td>\n",
       "      <td>8.4583</td>\n",
       "      <td>NaN</td>\n",
       "      <td>Q</td>\n",
       "    </tr>\n",
       "    <tr>\n",
       "      <th>6</th>\n",
       "      <td>7</td>\n",
       "      <td>0</td>\n",
       "      <td>1</td>\n",
       "      <td>McCarthy, Mr. Timothy J</td>\n",
       "      <td>male</td>\n",
       "      <td>54.0</td>\n",
       "      <td>0</td>\n",
       "      <td>0</td>\n",
       "      <td>17463</td>\n",
       "      <td>51.8625</td>\n",
       "      <td>E46</td>\n",
       "      <td>S</td>\n",
       "    </tr>\n",
       "    <tr>\n",
       "      <th>7</th>\n",
       "      <td>8</td>\n",
       "      <td>0</td>\n",
       "      <td>3</td>\n",
       "      <td>Palsson, Master. Gosta Leonard</td>\n",
       "      <td>male</td>\n",
       "      <td>2.0</td>\n",
       "      <td>3</td>\n",
       "      <td>1</td>\n",
       "      <td>349909</td>\n",
       "      <td>21.0750</td>\n",
       "      <td>NaN</td>\n",
       "      <td>S</td>\n",
       "    </tr>\n",
       "    <tr>\n",
       "      <th>8</th>\n",
       "      <td>9</td>\n",
       "      <td>1</td>\n",
       "      <td>3</td>\n",
       "      <td>Johnson, Mrs. Oscar W (Elisabeth Vilhelmina Berg)</td>\n",
       "      <td>female</td>\n",
       "      <td>27.0</td>\n",
       "      <td>0</td>\n",
       "      <td>2</td>\n",
       "      <td>347742</td>\n",
       "      <td>11.1333</td>\n",
       "      <td>NaN</td>\n",
       "      <td>S</td>\n",
       "    </tr>\n",
       "    <tr>\n",
       "      <th>9</th>\n",
       "      <td>10</td>\n",
       "      <td>1</td>\n",
       "      <td>2</td>\n",
       "      <td>Nasser, Mrs. Nicholas (Adele Achem)</td>\n",
       "      <td>female</td>\n",
       "      <td>14.0</td>\n",
       "      <td>1</td>\n",
       "      <td>0</td>\n",
       "      <td>237736</td>\n",
       "      <td>30.0708</td>\n",
       "      <td>NaN</td>\n",
       "      <td>C</td>\n",
       "    </tr>\n",
       "  </tbody>\n",
       "</table>\n",
       "</div>"
      ],
      "text/plain": [
       "   PassengerId  Survived  Pclass  \\\n",
       "0            1         0       3   \n",
       "1            2         1       1   \n",
       "2            3         1       3   \n",
       "3            4         1       1   \n",
       "4            5         0       3   \n",
       "5            6         0       3   \n",
       "6            7         0       1   \n",
       "7            8         0       3   \n",
       "8            9         1       3   \n",
       "9           10         1       2   \n",
       "\n",
       "                                                Name     Sex   Age  SibSp  \\\n",
       "0                            Braund, Mr. Owen Harris    male  22.0      1   \n",
       "1  Cumings, Mrs. John Bradley (Florence Briggs Th...  female  38.0      1   \n",
       "2                             Heikkinen, Miss. Laina  female  26.0      0   \n",
       "3       Futrelle, Mrs. Jacques Heath (Lily May Peel)  female  35.0      1   \n",
       "4                           Allen, Mr. William Henry    male  35.0      0   \n",
       "5                                   Moran, Mr. James    male   NaN      0   \n",
       "6                            McCarthy, Mr. Timothy J    male  54.0      0   \n",
       "7                     Palsson, Master. Gosta Leonard    male   2.0      3   \n",
       "8  Johnson, Mrs. Oscar W (Elisabeth Vilhelmina Berg)  female  27.0      0   \n",
       "9                Nasser, Mrs. Nicholas (Adele Achem)  female  14.0      1   \n",
       "\n",
       "   Parch            Ticket     Fare Cabin Embarked  \n",
       "0      0         A/5 21171   7.2500   NaN        S  \n",
       "1      0          PC 17599  71.2833   C85        C  \n",
       "2      0  STON/O2. 3101282   7.9250   NaN        S  \n",
       "3      0            113803  53.1000  C123        S  \n",
       "4      0            373450   8.0500   NaN        S  \n",
       "5      0            330877   8.4583   NaN        Q  \n",
       "6      0             17463  51.8625   E46        S  \n",
       "7      1            349909  21.0750   NaN        S  \n",
       "8      2            347742  11.1333   NaN        S  \n",
       "9      0            237736  30.0708   NaN        C  "
      ]
     },
     "execution_count": 2,
     "metadata": {},
     "output_type": "execute_result"
    }
   ],
   "source": [
    "titanic = pd.read_csv(\"titanic_train.csv\")\n",
    "titanic.head(10)"
   ]
  },
  {
   "cell_type": "code",
   "execution_count": 3,
   "metadata": {},
   "outputs": [
    {
     "name": "stdout",
     "output_type": "stream",
     "text": [
      "<class 'pandas.core.frame.DataFrame'>\n",
      "RangeIndex: 891 entries, 0 to 890\n",
      "Data columns (total 12 columns):\n",
      " #   Column       Non-Null Count  Dtype  \n",
      "---  ------       --------------  -----  \n",
      " 0   PassengerId  891 non-null    int64  \n",
      " 1   Survived     891 non-null    int64  \n",
      " 2   Pclass       891 non-null    int64  \n",
      " 3   Name         891 non-null    object \n",
      " 4   Sex          891 non-null    object \n",
      " 5   Age          714 non-null    float64\n",
      " 6   SibSp        891 non-null    int64  \n",
      " 7   Parch        891 non-null    int64  \n",
      " 8   Ticket       891 non-null    object \n",
      " 9   Fare         891 non-null    float64\n",
      " 10  Cabin        204 non-null    object \n",
      " 11  Embarked     889 non-null    object \n",
      "dtypes: float64(2), int64(5), object(5)\n",
      "memory usage: 83.7+ KB\n"
     ]
    }
   ],
   "source": [
    "titanic.info()\n"
   ]
  },
  {
   "cell_type": "code",
   "execution_count": 4,
   "metadata": {},
   "outputs": [
    {
     "data": {
      "text/plain": [
       "PassengerId      0\n",
       "Survived         0\n",
       "Pclass           0\n",
       "Name             0\n",
       "Sex              0\n",
       "Age            177\n",
       "SibSp            0\n",
       "Parch            0\n",
       "Ticket           0\n",
       "Fare             0\n",
       "Cabin          687\n",
       "Embarked         2\n",
       "dtype: int64"
      ]
     },
     "execution_count": 4,
     "metadata": {},
     "output_type": "execute_result"
    }
   ],
   "source": [
    "titanic.isnull().sum()"
   ]
  },
  {
   "cell_type": "code",
   "execution_count": 5,
   "metadata": {},
   "outputs": [],
   "source": [
    "#titanic = titanic[titanic['Cabin'].notna()]\n",
    "#titanic = titanic[titanic['Age'].notna()]\n",
    "\n",
    "#titanic"
   ]
  },
  {
   "cell_type": "code",
   "execution_count": 6,
   "metadata": {},
   "outputs": [
    {
     "data": {
      "text/plain": [
       "Embarked\n",
       "C    168\n",
       "Q     77\n",
       "S    644\n",
       "Name: PassengerId, dtype: int64"
      ]
     },
     "execution_count": 6,
     "metadata": {},
     "output_type": "execute_result"
    }
   ],
   "source": [
    "titanic[\"Sex_\"]=pd.get_dummies(titanic[\"Sex\"], drop_first=True)\n",
    "titanic.groupby([\"Embarked\"])[\"PassengerId\"].count()"
   ]
  },
  {
   "cell_type": "code",
   "execution_count": 7,
   "metadata": {
    "scrolled": true
   },
   "outputs": [
    {
     "data": {
      "text/html": [
       "<div>\n",
       "<style scoped>\n",
       "    .dataframe tbody tr th:only-of-type {\n",
       "        vertical-align: middle;\n",
       "    }\n",
       "\n",
       "    .dataframe tbody tr th {\n",
       "        vertical-align: top;\n",
       "    }\n",
       "\n",
       "    .dataframe thead th {\n",
       "        text-align: right;\n",
       "    }\n",
       "</style>\n",
       "<table border=\"1\" class=\"dataframe\">\n",
       "  <thead>\n",
       "    <tr style=\"text-align: right;\">\n",
       "      <th></th>\n",
       "      <th>PassengerId</th>\n",
       "      <th>Survived</th>\n",
       "      <th>Pclass</th>\n",
       "      <th>Name</th>\n",
       "      <th>Sex</th>\n",
       "      <th>Age</th>\n",
       "      <th>SibSp</th>\n",
       "      <th>Parch</th>\n",
       "      <th>Ticket</th>\n",
       "      <th>Fare</th>\n",
       "      <th>Cabin</th>\n",
       "      <th>Embarked</th>\n",
       "      <th>Sex_</th>\n",
       "      <th>EmbarkedC</th>\n",
       "      <th>EmbarkedS</th>\n",
       "      <th>EmbarkedQ</th>\n",
       "    </tr>\n",
       "  </thead>\n",
       "  <tbody>\n",
       "    <tr>\n",
       "      <th>0</th>\n",
       "      <td>1</td>\n",
       "      <td>0</td>\n",
       "      <td>3</td>\n",
       "      <td>Braund, Mr. Owen Harris</td>\n",
       "      <td>male</td>\n",
       "      <td>22.0</td>\n",
       "      <td>1</td>\n",
       "      <td>0</td>\n",
       "      <td>A/5 21171</td>\n",
       "      <td>7.2500</td>\n",
       "      <td>NaN</td>\n",
       "      <td>S</td>\n",
       "      <td>1</td>\n",
       "      <td>0.0</td>\n",
       "      <td>1.0</td>\n",
       "      <td>0.0</td>\n",
       "    </tr>\n",
       "    <tr>\n",
       "      <th>1</th>\n",
       "      <td>2</td>\n",
       "      <td>1</td>\n",
       "      <td>1</td>\n",
       "      <td>Cumings, Mrs. John Bradley (Florence Briggs Th...</td>\n",
       "      <td>female</td>\n",
       "      <td>38.0</td>\n",
       "      <td>1</td>\n",
       "      <td>0</td>\n",
       "      <td>PC 17599</td>\n",
       "      <td>71.2833</td>\n",
       "      <td>C85</td>\n",
       "      <td>C</td>\n",
       "      <td>0</td>\n",
       "      <td>1.0</td>\n",
       "      <td>0.0</td>\n",
       "      <td>0.0</td>\n",
       "    </tr>\n",
       "    <tr>\n",
       "      <th>2</th>\n",
       "      <td>3</td>\n",
       "      <td>1</td>\n",
       "      <td>3</td>\n",
       "      <td>Heikkinen, Miss. Laina</td>\n",
       "      <td>female</td>\n",
       "      <td>26.0</td>\n",
       "      <td>0</td>\n",
       "      <td>0</td>\n",
       "      <td>STON/O2. 3101282</td>\n",
       "      <td>7.9250</td>\n",
       "      <td>NaN</td>\n",
       "      <td>S</td>\n",
       "      <td>0</td>\n",
       "      <td>0.0</td>\n",
       "      <td>1.0</td>\n",
       "      <td>0.0</td>\n",
       "    </tr>\n",
       "    <tr>\n",
       "      <th>3</th>\n",
       "      <td>4</td>\n",
       "      <td>1</td>\n",
       "      <td>1</td>\n",
       "      <td>Futrelle, Mrs. Jacques Heath (Lily May Peel)</td>\n",
       "      <td>female</td>\n",
       "      <td>35.0</td>\n",
       "      <td>1</td>\n",
       "      <td>0</td>\n",
       "      <td>113803</td>\n",
       "      <td>53.1000</td>\n",
       "      <td>C123</td>\n",
       "      <td>S</td>\n",
       "      <td>0</td>\n",
       "      <td>0.0</td>\n",
       "      <td>1.0</td>\n",
       "      <td>0.0</td>\n",
       "    </tr>\n",
       "    <tr>\n",
       "      <th>4</th>\n",
       "      <td>5</td>\n",
       "      <td>0</td>\n",
       "      <td>3</td>\n",
       "      <td>Allen, Mr. William Henry</td>\n",
       "      <td>male</td>\n",
       "      <td>35.0</td>\n",
       "      <td>0</td>\n",
       "      <td>0</td>\n",
       "      <td>373450</td>\n",
       "      <td>8.0500</td>\n",
       "      <td>NaN</td>\n",
       "      <td>S</td>\n",
       "      <td>1</td>\n",
       "      <td>0.0</td>\n",
       "      <td>1.0</td>\n",
       "      <td>0.0</td>\n",
       "    </tr>\n",
       "  </tbody>\n",
       "</table>\n",
       "</div>"
      ],
      "text/plain": [
       "   PassengerId  Survived  Pclass  \\\n",
       "0            1         0       3   \n",
       "1            2         1       1   \n",
       "2            3         1       3   \n",
       "3            4         1       1   \n",
       "4            5         0       3   \n",
       "\n",
       "                                                Name     Sex   Age  SibSp  \\\n",
       "0                            Braund, Mr. Owen Harris    male  22.0      1   \n",
       "1  Cumings, Mrs. John Bradley (Florence Briggs Th...  female  38.0      1   \n",
       "2                             Heikkinen, Miss. Laina  female  26.0      0   \n",
       "3       Futrelle, Mrs. Jacques Heath (Lily May Peel)  female  35.0      1   \n",
       "4                           Allen, Mr. William Henry    male  35.0      0   \n",
       "\n",
       "   Parch            Ticket     Fare Cabin Embarked  Sex_  EmbarkedC  \\\n",
       "0      0         A/5 21171   7.2500   NaN        S     1        0.0   \n",
       "1      0          PC 17599  71.2833   C85        C     0        1.0   \n",
       "2      0  STON/O2. 3101282   7.9250   NaN        S     0        0.0   \n",
       "3      0            113803  53.1000  C123        S     0        0.0   \n",
       "4      0            373450   8.0500   NaN        S     1        0.0   \n",
       "\n",
       "   EmbarkedS  EmbarkedQ  \n",
       "0        1.0        0.0  \n",
       "1        0.0        0.0  \n",
       "2        1.0        0.0  \n",
       "3        1.0        0.0  \n",
       "4        1.0        0.0  "
      ]
     },
     "execution_count": 7,
     "metadata": {},
     "output_type": "execute_result"
    }
   ],
   "source": [
    "titanic[\"EmbarkedC\"]=titanic[\"Embarked\"].replace(\"C\",1)\n",
    "titanic[\"EmbarkedC\"].replace(\"S\",0,inplace=True)\n",
    "titanic[\"EmbarkedC\"].replace(\"Q\",0,inplace=True)\n",
    "titanic[\"EmbarkedS\"]=titanic[\"Embarked\"].replace(\"S\",1)\n",
    "titanic[\"EmbarkedS\"].replace(\"Q\",0,inplace=True)\n",
    "titanic[\"EmbarkedS\"].replace(\"C\",0,inplace=True)\n",
    "titanic[\"EmbarkedQ\"]=titanic[\"Embarked\"].replace(\"Q\",1)\n",
    "titanic[\"EmbarkedQ\"].replace(\"S\",0,inplace=True)\n",
    "titanic[\"EmbarkedQ\"].replace(\"C\",0,inplace=True)\n",
    "titanic.head()"
   ]
  },
  {
   "cell_type": "code",
   "execution_count": 8,
   "metadata": {},
   "outputs": [],
   "source": [
    "titanic.dropna(subset=['Age', 'Embarked'],inplace=True)"
   ]
  },
  {
   "cell_type": "code",
   "execution_count": 9,
   "metadata": {},
   "outputs": [
    {
     "name": "stdout",
     "output_type": "stream",
     "text": [
      "The number of observations in training set is 569\n",
      "The number of observations in test set is 143\n"
     ]
    }
   ],
   "source": [
    "Y = titanic[\"Survived\"]\n",
    "\n",
    "X = titanic[[\"Pclass\",\"Sex_\",\"Age\",\n",
    "                 \"Parch\",\"EmbarkedC\",\"EmbarkedS\",\"EmbarkedQ\"]]\n",
    "\n",
    "X_train, X_test, y_train, y_test = train_test_split(X, Y, test_size = 0.2, random_state = 465)\n",
    "\n",
    "print(\"The number of observations in training set is {}\".format(X_train.shape[0]))\n",
    "print(\"The number of observations in test set is {}\".format(X_test.shape[0]))"
   ]
  },
  {
   "cell_type": "code",
   "execution_count": 10,
   "metadata": {},
   "outputs": [],
   "source": [
    "log_reg = LogisticRegression(solver='liblinear')\n"
   ]
  },
  {
   "cell_type": "code",
   "execution_count": 11,
   "metadata": {},
   "outputs": [
    {
     "data": {
      "text/plain": [
       "LogisticRegression(solver='liblinear')"
      ]
     },
     "execution_count": 11,
     "metadata": {},
     "output_type": "execute_result"
    }
   ],
   "source": [
    "log_reg.fit(X_train, y_train)\n"
   ]
  },
  {
   "cell_type": "code",
   "execution_count": 12,
   "metadata": {},
   "outputs": [
    {
     "name": "stdout",
     "output_type": "stream",
     "text": [
      "One-vs.-Rest\n",
      "------------------------------\n",
      "Accuracy on Train Data : 0.79\n",
      "Accuracy on Test Data  : 0.80\n"
     ]
    }
   ],
   "source": [
    "train_accuracy = log_reg.score(X_train, y_train)\n",
    "test_accuracy = log_reg.score(X_test, y_test)\n",
    "\n",
    "print('One-vs.-Rest', '-'*30, \n",
    "      'Accuracy on Train Data : {:.2f}'.format(train_accuracy), \n",
    "      'Accuracy on Test Data  : {:.2f}'.format(test_accuracy), sep='\\n')"
   ]
  },
  {
   "cell_type": "code",
   "execution_count": 13,
   "metadata": {},
   "outputs": [
    {
     "data": {
      "text/plain": [
       "array([0, 1], dtype=int64)"
      ]
     },
     "execution_count": 13,
     "metadata": {},
     "output_type": "execute_result"
    }
   ],
   "source": [
    "log_reg.classes_"
   ]
  },
  {
   "cell_type": "code",
   "execution_count": 14,
   "metadata": {},
   "outputs": [
    {
     "data": {
      "text/plain": [
       "array([0, 0, 0, 0, 1, 0, 0, 1, 0, 0, 0, 0, 0, 0, 1, 0, 0, 0, 0, 0, 1, 0,\n",
       "       0, 0, 1, 0, 1, 1, 0, 0, 0, 0, 1, 0, 1, 1, 1, 0, 0, 0, 0, 1, 0, 0,\n",
       "       0, 1, 0, 0, 0, 0, 0, 0, 0, 0, 0, 0, 0, 1, 0, 1, 0, 1, 1, 0, 0, 0,\n",
       "       0, 0, 1, 0, 1, 0, 0, 0, 1, 1, 0, 1, 1, 0, 0, 1, 1, 1, 1, 0, 0, 0,\n",
       "       1, 0, 0, 0, 1, 1, 0, 0, 1, 0, 1, 0, 0, 1, 0, 0, 0, 1, 0, 0, 0, 1,\n",
       "       1, 0, 0, 1, 1, 0, 0, 0, 0, 1, 0, 1, 0, 0, 0, 0, 0, 1, 0, 0, 0, 0,\n",
       "       0, 0, 0, 0, 1, 0, 0, 0, 1, 1, 0], dtype=int64)"
      ]
     },
     "execution_count": 14,
     "metadata": {},
     "output_type": "execute_result"
    }
   ],
   "source": [
    "y_pred = log_reg.predict(X_test)\n",
    "y_pred"
   ]
  },
  {
   "cell_type": "code",
   "execution_count": 15,
   "metadata": {
    "scrolled": true
   },
   "outputs": [
    {
     "data": {
      "text/plain": [
       "array([[0.8771583 , 0.1228417 ],\n",
       "       [0.70228598, 0.29771402],\n",
       "       [0.84764819, 0.15235181],\n",
       "       [0.93183291, 0.06816709],\n",
       "       [0.3740883 , 0.6259117 ],\n",
       "       [0.889396  , 0.110604  ],\n",
       "       [0.68124166, 0.31875834],\n",
       "       [0.42554585, 0.57445415],\n",
       "       [0.72096479, 0.27903521],\n",
       "       [0.95370509, 0.04629491],\n",
       "       [0.88341646, 0.11658354],\n",
       "       [0.76617597, 0.23382403],\n",
       "       [0.58625318, 0.41374682],\n",
       "       [0.86377396, 0.13622604],\n",
       "       [0.30099279, 0.69900721],\n",
       "       [0.81497425, 0.18502575],\n",
       "       [0.79703096, 0.20296904],\n",
       "       [0.81497425, 0.18502575],\n",
       "       [0.8771583 , 0.1228417 ],\n",
       "       [0.90825217, 0.09174783],\n",
       "       [0.26222283, 0.73777717],\n",
       "       [0.86024144, 0.13975856],\n",
       "       [0.86723098, 0.13276902],\n",
       "       [0.52149609, 0.47850391],\n",
       "       [0.45284056, 0.54715944],\n",
       "       [0.82859922, 0.17140078],\n",
       "       [0.28725562, 0.71274438],\n",
       "       [0.08605186, 0.91394814],\n",
       "       [0.86377396, 0.13622604],\n",
       "       [0.66158988, 0.33841012],\n",
       "       [0.86377396, 0.13622604],\n",
       "       [0.95625804, 0.04374196],\n",
       "       [0.28725562, 0.71274438],\n",
       "       [0.66266314, 0.33733686],\n",
       "       [0.27878435, 0.72121565],\n",
       "       [0.20165477, 0.79834523],\n",
       "       [0.41109386, 0.58890614],\n",
       "       [0.86723098, 0.13276902],\n",
       "       [0.7541125 , 0.2458875 ],\n",
       "       [0.88032272, 0.11967728],\n",
       "       [0.96518632, 0.03481368],\n",
       "       [0.23186845, 0.76813155],\n",
       "       [0.8363279 , 0.1636721 ],\n",
       "       [0.79172211, 0.20827789],\n",
       "       [0.87061341, 0.12938659],\n",
       "       [0.31036532, 0.68963468],\n",
       "       [0.88341646, 0.11658354],\n",
       "       [0.86377396, 0.13622604],\n",
       "       [0.68228253, 0.31771747],\n",
       "       [0.64925978, 0.35074022],\n",
       "       [0.70803935, 0.29196065],\n",
       "       [0.70026926, 0.29973074],\n",
       "       [0.84955597, 0.15044403],\n",
       "       [0.59414293, 0.40585707],\n",
       "       [0.77595833, 0.22404167],\n",
       "       [0.74983764, 0.25016236],\n",
       "       [0.70886017, 0.29113983],\n",
       "       [0.10313378, 0.89686622],\n",
       "       [0.92416777, 0.07583223],\n",
       "       [0.23116141, 0.76883859],\n",
       "       [0.5051895 , 0.4948105 ],\n",
       "       [0.23576497, 0.76423503],\n",
       "       [0.27878435, 0.72121565],\n",
       "       [0.89649135, 0.10350865],\n",
       "       [0.93751241, 0.06248759],\n",
       "       [0.82101374, 0.17898626],\n",
       "       [0.87392219, 0.12607781],\n",
       "       [0.91510323, 0.08489677],\n",
       "       [0.1387965 , 0.8612035 ],\n",
       "       [0.86024144, 0.13975856],\n",
       "       [0.08777797, 0.91222203],\n",
       "       [0.72155234, 0.27844766],\n",
       "       [0.78175781, 0.21824219],\n",
       "       [0.94791089, 0.05208911],\n",
       "       [0.41783838, 0.58216162],\n",
       "       [0.12487649, 0.87512351],\n",
       "       [0.85579808, 0.14420192],\n",
       "       [0.35835972, 0.64164028],\n",
       "       [0.07736519, 0.92263481],\n",
       "       [0.52050435, 0.47949565],\n",
       "       [0.88644054, 0.11355946],\n",
       "       [0.49897235, 0.50102765],\n",
       "       [0.37965376, 0.62034624],\n",
       "       [0.10377343, 0.89622657],\n",
       "       [0.16094393, 0.83905607],\n",
       "       [0.87061341, 0.12938659],\n",
       "       [0.70019548, 0.29980452],\n",
       "       [0.86024144, 0.13975856],\n",
       "       [0.16539802, 0.83460198],\n",
       "       [0.91069716, 0.08930284],\n",
       "       [0.93394096, 0.06605904],\n",
       "       [0.71879665, 0.28120335],\n",
       "       [0.4548106 , 0.5451894 ],\n",
       "       [0.32031857, 0.67968143],\n",
       "       [0.85663252, 0.14336748],\n",
       "       [0.7921841 , 0.2078159 ],\n",
       "       [0.10129861, 0.89870139],\n",
       "       [0.89163071, 0.10836929],\n",
       "       [0.4323534 , 0.5676466 ],\n",
       "       [0.90055278, 0.09944722],\n",
       "       [0.89510527, 0.10489473],\n",
       "       [0.43282148, 0.56717852],\n",
       "       [0.64925978, 0.35074022],\n",
       "       [0.54983481, 0.45016519],\n",
       "       [0.96712796, 0.03287204],\n",
       "       [0.08865231, 0.91134769],\n",
       "       [0.90055278, 0.09944722],\n",
       "       [0.86723098, 0.13276902],\n",
       "       [0.64491762, 0.35508238],\n",
       "       [0.36001821, 0.63998179],\n",
       "       [0.27093204, 0.72906796],\n",
       "       [0.88032272, 0.11967728],\n",
       "       [0.8978612 , 0.1021388 ],\n",
       "       [0.3550221 , 0.6449779 ],\n",
       "       [0.41109386, 0.58890614],\n",
       "       [0.69645154, 0.30354846],\n",
       "       [0.84429692, 0.15570308],\n",
       "       [0.90574717, 0.09425283],\n",
       "       [0.60125551, 0.39874449],\n",
       "       [0.39559145, 0.60440855],\n",
       "       [0.91308322, 0.08691678],\n",
       "       [0.46858432, 0.53141568],\n",
       "       [0.889396  , 0.110604  ],\n",
       "       [0.90825217, 0.09174783],\n",
       "       [0.78175781, 0.21824219],\n",
       "       [0.85294633, 0.14705367],\n",
       "       [0.84918206, 0.15081794],\n",
       "       [0.4839146 , 0.5160854 ],\n",
       "       [0.86926451, 0.13073549],\n",
       "       [0.93394096, 0.06605904],\n",
       "       [0.88032272, 0.11967728],\n",
       "       [0.79172211, 0.20827789],\n",
       "       [0.90055278, 0.09944722],\n",
       "       [0.64992501, 0.35007499],\n",
       "       [0.78175781, 0.21824219],\n",
       "       [0.58696189, 0.41303811],\n",
       "       [0.07900858, 0.92099142],\n",
       "       [0.78175781, 0.21824219],\n",
       "       [0.51752819, 0.48247181],\n",
       "       [0.68868531, 0.31131469],\n",
       "       [0.07506855, 0.92493145],\n",
       "       [0.14927255, 0.85072745],\n",
       "       [0.77145442, 0.22854558]])"
      ]
     },
     "execution_count": 15,
     "metadata": {},
     "output_type": "execute_result"
    }
   ],
   "source": [
    "log_reg.predict_proba(X_test)\n",
    "#The first column is the probability of the predicted output being zero\n",
    "#second is one"
   ]
  },
  {
   "cell_type": "code",
   "execution_count": null,
   "metadata": {},
   "outputs": [],
   "source": []
  },
  {
   "cell_type": "markdown",
   "metadata": {},
   "source": [
    "# İmproving Model"
   ]
  },
  {
   "cell_type": "code",
   "execution_count": 16,
   "metadata": {},
   "outputs": [],
   "source": [
    "titanic[\"Sib/age\"] = titanic[\"SibSp\"]*titanic[\"Age\"]"
   ]
  },
  {
   "cell_type": "code",
   "execution_count": 17,
   "metadata": {},
   "outputs": [],
   "source": [
    "X_ = titanic[[\"Pclass\",\"Sex_\",\"Age\",\"Parch\",\"Sib/age\"]]\n",
    "Y_ = titanic[\"Survived\"]\n",
    "\n",
    "\n"
   ]
  },
  {
   "cell_type": "code",
   "execution_count": 18,
   "metadata": {},
   "outputs": [],
   "source": [
    "X_train_, X_test_, y_train_, y_test_ = train_test_split(X_, Y_, test_size = 0.2, random_state = 465)"
   ]
  },
  {
   "cell_type": "code",
   "execution_count": 19,
   "metadata": {},
   "outputs": [
    {
     "data": {
      "text/plain": [
       "LogisticRegression()"
      ]
     },
     "execution_count": 19,
     "metadata": {},
     "output_type": "execute_result"
    }
   ],
   "source": [
    "log_reg_ = LogisticRegression()\n",
    "log_reg_.fit(X_train_, y_train_)"
   ]
  },
  {
   "cell_type": "code",
   "execution_count": 20,
   "metadata": {},
   "outputs": [
    {
     "name": "stdout",
     "output_type": "stream",
     "text": [
      "One-vs.-Rest\n",
      "------------------------------\n",
      "Accuracy on Train Data : 0.80\n",
      "Accuracy on Test Data  : 0.82\n"
     ]
    }
   ],
   "source": [
    "train_accuracy = log_reg_.score(X_train_, y_train_)\n",
    "test_accuracy = log_reg_.score(X_test_, y_test_)\n",
    "\n",
    "print('One-vs.-Rest', '-'*30, \n",
    "      'Accuracy on Train Data : {:.2f}'.format(train_accuracy), \n",
    "      'Accuracy on Test Data  : {:.2f}'.format(test_accuracy), sep='\\n')"
   ]
  },
  {
   "cell_type": "markdown",
   "metadata": {},
   "source": [
    "With interaction between Sibsp and age, the accuracy of model is increased."
   ]
  },
  {
   "cell_type": "code",
   "execution_count": 23,
   "metadata": {
    "scrolled": true
   },
   "outputs": [
    {
     "data": {
      "text/html": [
       "<div>\n",
       "<style scoped>\n",
       "    .dataframe tbody tr th:only-of-type {\n",
       "        vertical-align: middle;\n",
       "    }\n",
       "\n",
       "    .dataframe tbody tr th {\n",
       "        vertical-align: top;\n",
       "    }\n",
       "\n",
       "    .dataframe thead th {\n",
       "        text-align: right;\n",
       "    }\n",
       "</style>\n",
       "<table border=\"1\" class=\"dataframe\">\n",
       "  <thead>\n",
       "    <tr style=\"text-align: right;\">\n",
       "      <th></th>\n",
       "      <th>C_values</th>\n",
       "      <th>Train Accuracy</th>\n",
       "      <th>Test Accuracy</th>\n",
       "    </tr>\n",
       "  </thead>\n",
       "  <tbody>\n",
       "    <tr>\n",
       "      <th>0</th>\n",
       "      <td>0.001</td>\n",
       "      <td>0.594025</td>\n",
       "      <td>0.629371</td>\n",
       "    </tr>\n",
       "    <tr>\n",
       "      <th>1</th>\n",
       "      <td>0.010</td>\n",
       "      <td>0.766257</td>\n",
       "      <td>0.748252</td>\n",
       "    </tr>\n",
       "    <tr>\n",
       "      <th>2</th>\n",
       "      <td>0.100</td>\n",
       "      <td>0.801406</td>\n",
       "      <td>0.825175</td>\n",
       "    </tr>\n",
       "    <tr>\n",
       "      <th>3</th>\n",
       "      <td>1.000</td>\n",
       "      <td>0.797891</td>\n",
       "      <td>0.818182</td>\n",
       "    </tr>\n",
       "    <tr>\n",
       "      <th>4</th>\n",
       "      <td>10.000</td>\n",
       "      <td>0.796134</td>\n",
       "      <td>0.825175</td>\n",
       "    </tr>\n",
       "    <tr>\n",
       "      <th>5</th>\n",
       "      <td>100.000</td>\n",
       "      <td>0.796134</td>\n",
       "      <td>0.825175</td>\n",
       "    </tr>\n",
       "    <tr>\n",
       "      <th>6</th>\n",
       "      <td>1000.000</td>\n",
       "      <td>0.796134</td>\n",
       "      <td>0.825175</td>\n",
       "    </tr>\n",
       "  </tbody>\n",
       "</table>\n",
       "</div>"
      ],
      "text/plain": [
       "   C_values  Train Accuracy  Test Accuracy\n",
       "0     0.001        0.594025       0.629371\n",
       "1     0.010        0.766257       0.748252\n",
       "2     0.100        0.801406       0.825175\n",
       "3     1.000        0.797891       0.818182\n",
       "4    10.000        0.796134       0.825175\n",
       "5   100.000        0.796134       0.825175\n",
       "6  1000.000        0.796134       0.825175"
      ]
     },
     "metadata": {},
     "output_type": "display_data"
    }
   ],
   "source": [
    "C_values = [0.001,0.01, 0.1,1,10,100, 1000]\n",
    "\n",
    "accuracy_values = pd.DataFrame(columns=['C_values', 'Train Accuracy', 'Test Accuracy'])\n",
    "\n",
    "for c in C_values:\n",
    "    # Apply logistic regression model to training data\n",
    "    lr = LogisticRegression(penalty = 'l2', C = c, random_state = 0)\n",
    "    lr.fit(X_train_, y_train_)\n",
    "    accuracy_values = accuracy_values.append({'C_values': c,\n",
    "                                              'Train Accuracy': lr.score(X_train_, y_train_),\n",
    "                                              'Test Accuracy': lr.score(X_test_, y_test_)\n",
    "                                             }, ignore_index=True)\n",
    "display(accuracy_values)  "
   ]
  },
  {
   "cell_type": "markdown",
   "metadata": {},
   "source": [
    "According to the results, c value was 0.100 and gave the best result."
   ]
  }
 ],
 "metadata": {
  "kernelspec": {
   "display_name": "Python 3",
   "language": "python",
   "name": "python3"
  },
  "language_info": {
   "codemirror_mode": {
    "name": "ipython",
    "version": 3
   },
   "file_extension": ".py",
   "mimetype": "text/x-python",
   "name": "python",
   "nbconvert_exporter": "python",
   "pygments_lexer": "ipython3",
   "version": "3.8.3"
  }
 },
 "nbformat": 4,
 "nbformat_minor": 4
}
